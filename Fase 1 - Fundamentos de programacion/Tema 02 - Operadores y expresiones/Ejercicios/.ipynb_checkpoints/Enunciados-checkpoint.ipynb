{
 "cells": [
  {
   "cell_type": "markdown",
   "metadata": {},
   "source": [
    "# Tema 02: Operadores y expresiones (Enunciados)\n",
    "*Nota: Estos ejercicios son optativos para hacer al final de la unidad y están pensados para apoyar tu aprendizaje*."
   ]
  },
  {
   "cell_type": "markdown",
   "metadata": {},
   "source": [
    "**1) Realiza un programa que lea 2 números por teclado y determine los siguientes aspectos (es suficiene con mostrar True o False):**\n",
    "* Si los dos números son iguales\n",
    "* Si los dos números son diferentes\n",
    "* Si el primero es mayor que el segundo\n",
    "* Si el segundo es mayor o igual que el primero"
   ]
  },
  {
   "cell_type": "code",
   "execution_count": 7,
   "metadata": {},
   "outputs": [
    {
     "name": "stdout",
     "output_type": "stream",
     "text": [
      "primer numero: 5\n",
      "segndo numero: 1\n",
      "Los numeros son iguales:  False\n",
      "Los numeros son distintos:  True\n",
      "el primero es mayor:  True\n",
      "el segundo es mayor o igual:  True\n"
     ]
    }
   ],
   "source": [
    "# Completa el ejercicio aquí\n",
    "num1 = int(input(\"primer numero: \"))\n",
    "num2 = int(input(\"segndo numero: \"))\n",
    "\n",
    "igualdad = num1 == num2\n",
    "desigualdad = num1 != num2\n",
    "\n",
    "print(\"Los numeros son iguales: \" ,igualdad)\n",
    "print(\"Los numeros son distintos: \" ,desigualdad)\n",
    "print(\"el primero es mayor: \" ,num1 > num2)\n",
    "print(\"el segundo es mayor o igual: \" ,num2 <= num1)"
   ]
  },
  {
   "cell_type": "markdown",
   "metadata": {},
   "source": [
    "**2) Utilizando operadores lógicos, determina si una cadena de texto introducida por el usuario tiene una longitud mayor o igual que 3 y a su vez es menor que 10 (es suficiene con mostrar True o False):**"
   ]
  },
  {
   "cell_type": "code",
   "execution_count": 10,
   "metadata": {},
   "outputs": [
    {
     "name": "stdout",
     "output_type": "stream",
     "text": [
      "Introduzca una cadena: sfsgsfgdfgdfgsgsfg\n",
      "La cadena es mayor o igual a 3 y menos que 10 False\n"
     ]
    }
   ],
   "source": [
    "# Completa el ejercicio aquí\n",
    "s = input(\"Introduzca una cadena: \")\n",
    "l = len(s)\n",
    "\n",
    "print(\"La cadena es mayor o igual a 3 y menos que 10\", l >= 3 and l< 10)"
   ]
  },
  {
   "cell_type": "markdown",
   "metadata": {},
   "source": [
    "**3) Realiza un programa que cumpla el siguiente algoritmo utilizando siempre que sea posible operadores en asignación:**\n",
    "* Guarda en una variable numero_magico el valor 12345679 (sin el 8)\n",
    "* Lee por pantalla otro numero_usuario, especifica que sea entre 1 y 9 (asegúrate que es un número)\n",
    "* Multiplica el numero_usuario por 9 en sí mismo\n",
    "* Multiplica el numero_magico por el numero_usuario en sí mismo\n",
    "* Finalmente muestra el valor final del numero_magico por pantalla\n"
   ]
  },
  {
   "cell_type": "code",
   "execution_count": 12,
   "metadata": {},
   "outputs": [
    {
     "name": "stdout",
     "output_type": "stream",
     "text": [
      "Introduzca un numero del 1 al 98\n",
      "888888888\n"
     ]
    }
   ],
   "source": [
    "# Completa el ejercicio aquí\n",
    "\n",
    "numero_magico = 12345679\n",
    "numero_usuario = int(input(\"Introduzca un numero del 1 al 9\"))\n",
    "numero_usuario *= 9\n",
    "numero_magico *= numero_usuario\n",
    "print(numero_magico)\n",
    "\n"
   ]
  }
 ],
 "metadata": {
  "anaconda-cloud": {},
  "kernelspec": {
   "display_name": "Python 3",
   "language": "python",
   "name": "python3"
  }
 },
 "nbformat": 4,
 "nbformat_minor": 1
}
